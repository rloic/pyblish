{
 "cells": [
  {
   "cell_type": "code",
   "execution_count": 1,
   "metadata": {
    "collapsed": false,
    "jupyter": {
     "outputs_hidden": false
    },
    "pycharm": {
     "is_executing": true
    },
    "tags": [
     "hidden"
    ]
   },
   "outputs": [
    {
     "data": {
      "text/html": [
       "<style>body {\n",
       "\tcounter-reset: section;\n",
       "}\n",
       "\n",
       ".jp-RenderedHTMLCommon, .jp-RenderedMarkdown, .jp-MarkdownOutput {\n",
       "\tfont-size: 18px;\n",
       "\tfont-family: \"Latin Modern\", serif;\n",
       "}\n",
       "\n",
       ".jp-RenderedHTMLCommon *, .jp-RenderedMarkdown *, .jp-MarkdownOutput * {\n",
       "\tfont-family: \"Latin Modern\", serif;\n",
       "}\n",
       "\n",
       ".jp-RenderedHTMLCommon h1, .jp-RenderedHTMLCommon h2, .jp-RenderedHTMLCommon h3, .jp-RenderedHTMLCommon h4, .jp-RenderedHTMLCommon h5, .jp-RenderedHTMLCommon h6, .jp-RenderedMarkdown h1, .jp-RenderedMarkdown h2, .jp-RenderedMarkdown h3, .jp-RenderedMarkdown h4, .jp-RenderedMarkdown h5, .jp-RenderedMarkdown h6, .jp-MarkdownOutput h1, .jp-MarkdownOutput h2, .jp-MarkdownOutput h3, .jp-MarkdownOutput h4, .jp-MarkdownOutput h5, .jp-MarkdownOutput h6 {\n",
       "\tfont-weight: bold;\n",
       "\tfont-family: \"Latin Modern Sans\", sans;\n",
       "}\n",
       "\n",
       ".jp-RenderedHTMLCommon h1:before, .jp-RenderedMarkdown h1:before, .jp-MarkdownOutput h1:before {\n",
       "\tcontent: counter(section) \" \";\n",
       "\tcounter-increment: section;\n",
       "}\n",
       "\n",
       ".jp-RenderedHTMLCommon h1[id$=\"{-}\"]:before, .jp-RenderedMarkdown h1[id$=\"{-}\"]:before, .jp-MarkdownOutput h1[id$=\"{-}\"]:before {\n",
       "\tcontent: \"\";\n",
       "\tcounter-increment: none;\n",
       "}\n",
       "\n",
       ".jp-RenderedHTMLCommon h1, .jp-RenderedMarkdown h1, .jp-MarkdownOutput h1 {\n",
       "\tfont-size: 31.10px;\n",
       "\tcounter-reset: subsection;\n",
       "}\n",
       "\n",
       ".jp-RenderedHTMLCommon h2, .jp-RenderedMarkdown h2, .jp-MarkdownOutput h2 {\n",
       "\tfont-size: 25.92px;\n",
       "\tcounter-reset: subsubsection;\n",
       "}\n",
       "\n",
       ".jp-RenderedHTMLCommon h2:before, .jp-RenderedMarkdown h2:before, .jp-MarkdownOutput h2:before {\n",
       "\tcontent: counter(section) \".\" counter(subsection) \" \";\n",
       "\tcounter-increment: subsection;\n",
       "}\n",
       "\n",
       ".jp-RenderedHTMLCommon h2[id$=\"{-}\"]:before, .jp-RenderedMarkdown h2[id$=\"{-}\"]:before, .jp-MarkdownOutput h2[id$=\"{-}\"]:before {\n",
       "\tcontent: \"\";\n",
       "\tcounter-increment: none;\n",
       "}\n",
       "\n",
       ".jp-RenderedHTMLCommon h3, .jp-RenderedMarkdown h3, .jp-MarkdownOutput h3 {\n",
       "\tfont-size: 18px;\n",
       "}\n",
       "\n",
       ".jp-RenderedHTMLCommon h3:before, .jp-RenderedMarkdown h3:before, .jp-MarkdownOutput h3:before {\n",
       "\tcontent: counter(section) \".\" counter(subsection) \".\" counter(subsubsection) \" \";\n",
       "\tcounter-increment: subsubsection;\n",
       "}\n",
       "\n",
       ".jp-RenderedHTMLCommon h3[id$=\"{-}\"]:before, .jp-RenderedMarkdown h3[id$=\"{-}\"]:before, .jp-MarkdownOutput h3[id$=\"{-}\"]:before {\n",
       "\tcontent: \"\";\n",
       "\tcounter-increment: none;\n",
       "}\n",
       "\n",
       ".jp-RenderedHTMLCommon h4, .jp-RenderedMarkdown h4, .jp-MarkdownOutput h4 {\n",
       "\tfont-size: 18px;\n",
       "}\n",
       "\n",
       ".jp-RenderedHTMLCommon h5, .jp-RenderedMarkdown h5, .jp-MarkdownOutput h5 {\n",
       "\tfont-size: 18px;\n",
       "}\n",
       "\n",
       ".jp-RenderedHTMLCommon pre, .jp-RenderedHTMLCommon code, .jp-RenderedHTMLCommon samp, .jp-RenderedHTMLCommon pre *, .jp-RenderedHTMLCommon code *, .jp-RenderedHTMLCommon samp *, .jp-RenderedMarkdown pre, .jp-RenderedMarkdown code, .jp-RenderedMarkdown samp, .jp-RenderedMarkdown pre *, .jp-RenderedMarkdown code *, .jp-RenderedMarkdown samp *, .jp-MarkdownOutput pre, .jp-MarkdownOutput code, .jp-MarkdownOutput samp, .jp-MarkdownOutput pre *, .jp-MarkdownOutput code *, .jp-MarkdownOutput samp * {\n",
       "\tfont-family: \"Latin Modern Monospace\", monospace;\n",
       "\tfont-size: 18px;\n",
       "}\n",
       "\n",
       ".jp-RenderedHTMLCommon :not(pre) > code, .jp-RenderedMarkdown :not(pre) > code, .jp-MarkdownOutput :not(pre) > code {\n",
       "\tbackground: none;\n",
       "}\n",
       "\n",
       ".jp-RenderedHTMLCommon a:link, .jp-RenderedHTMLCommon a:visited, .jp-RenderedMarkdown a:link, .jp-RenderedMarkdown a:visited, .jp-MarkdownOutput a:link, .jp-MarkdownOutput a:visited {\n",
       "\tfont-family: \"Latin Modern Monospace\", monospace;\n",
       "\tcolor: #ec008c;\n",
       "}\n",
       "\n",
       ".jp-RenderedHTMLCommon a:link[href^=\"#\"], .jp-RenderedHTMLCommon a:visited[href^=\"#\"], .jp-RenderedMarkdown a:link[href^=\"#\"], .jp-RenderedMarkdown a:visited[href^=\"#\"], .jp-MarkdownOutput a:link[href^=\"#\"], .jp-MarkdownOutput a:visited[href^=\"#\"] {\n",
       "\tfont-family: \"Latin Modern Sans\", serif;\n",
       "\tcolor: #4c0000;\n",
       "\tfont-size: 1.2em;\n",
       "}</style>"
      ],
      "text/plain": [
       "<IPython.core.display.HTML object>"
      ]
     },
     "metadata": {},
     "output_type": "display_data"
    }
   ],
   "source": [
    "from pyblish import Pyblish\n",
    "Pyblish.configure('ReadMe.yml')"
   ]
  },
  {
   "cell_type": "markdown",
   "metadata": {},
   "source": [
    "# Pyblish\n",
    "\n",
    "Pyblish is a python application that convert Jupyter notebooks (`ipynb`) into journal publications. It runs [Pandoc](https://pandoc.org/) under the hood, applies some default extensions and provides some basic filters.\n",
    "\n",
    "## Builtins\n",
    "\n",
    "Pyblish has some HTML and Latex extensions. It’s allows to write plain python code and produce Latex and HTML ready to publish code.\n",
    "\n",
    "For exemple Pyblish provides the `Figure` class which allows to create a Figure environment.\n",
    "\n",
    "Usage: "
   ]
  },
  {
   "cell_type": "code",
   "execution_count": 2,
   "metadata": {
    "tags": [
     "visible"
    ]
   },
   "outputs": [
    {
     "data": {
      "text/html": [
       "<figure><p>This is markdown <strong>here</strong>!</p>\n",
       "</figure>"
      ],
      "text/latex": [
       "\\begin{figure}This is markdown \\textbf{here}!\n",
       "\\end{figure}"
      ],
      "text/plain": [
       "<pyblish.Figure at 0x7f29a63fec10>"
      ]
     },
     "execution_count": 2,
     "metadata": {},
     "output_type": "execute_result"
    }
   ],
   "source": [
    "from pyblish import Figure\n",
    "Figure(\"\"\"This is markdown **here**!\"\"\")"
   ]
  },
  {
   "cell_type": "markdown",
   "metadata": {},
   "source": [
    "This code will produce the HTML code:\n",
    "```html\n",
    "<figure>This is markdown <b>here</b>!<figure>\n",
    "```\n",
    "\n",
    "to render the content in the jupyter environment and:\n",
    "\n",
    "```latex\n",
    "\\begin{figure}\n",
    "This is markdown \\textbf{here}!\n",
    "\\end{figure}\n",
    "```\n",
    "\n",
    "to render in the Latex code source."
   ]
  },
  {
   "cell_type": "markdown",
   "metadata": {},
   "source": [
    "## Journals\n",
    "\n",
    "The provided journals are stored in the [_journals](_journals) directory.\n",
    "\n",
    "### IACRTrans\n",
    "\n",
    "The iarctrans journal can be used to publish in both [ToSC](https://tosc.iacr.org/index.php/ToSC/index) and [TCHES](https://tches.iacr.org/)\n",
    "\n",
    "To use this journal add:\n",
    "```yml\n",
    "use: _journal/iacrtrans.yml\n",
    "```\n",
    "to your yml metadata file."
   ]
  }
 ],
 "metadata": {
  "kernelspec": {
   "display_name": "Python 3 (ipykernel)",
   "language": "python",
   "name": "python3"
  },
  "language_info": {
   "codemirror_mode": {
    "name": "ipython",
    "version": 3
   },
   "file_extension": ".py",
   "mimetype": "text/x-python",
   "name": "python",
   "nbconvert_exporter": "python",
   "pygments_lexer": "ipython3",
   "version": "3.9.16"
  }
 },
 "nbformat": 4,
 "nbformat_minor": 4
}
