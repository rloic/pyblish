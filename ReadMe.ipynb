{
 "cells": [
  {
   "cell_type": "code",
   "execution_count": 1,
   "metadata": {
    "collapsed": false,
    "jupyter": {
     "outputs_hidden": false
    },
    "pycharm": {
     "is_executing": true
    },
    "tags": [
     "hidden"
    ]
   },
   "outputs": [
    {
     "data": {
      "text/html": [
       "<style>@charset \"UTF-8\";\n",
       "body {\n",
       "  counter-reset: section, subsection, subsubsection, theorem;\n",
       "}\n",
       "\n",
       ".jp-RenderedHTMLCommon, .jp-RenderedMarkdown, .jp-MarkdownOutput {\n",
       "  font-size: 18px;\n",
       "  font-family: \"Latin Modern\", serif;\n",
       "}\n",
       ".jp-RenderedHTMLCommon *, .jp-RenderedMarkdown *, .jp-MarkdownOutput * {\n",
       "  font-family: \"Latin Modern\", serif;\n",
       "}\n",
       ".jp-RenderedHTMLCommon h1, .jp-RenderedHTMLCommon h2, .jp-RenderedHTMLCommon h3, .jp-RenderedHTMLCommon h4, .jp-RenderedHTMLCommon h5, .jp-RenderedHTMLCommon h6, .jp-RenderedMarkdown h1, .jp-RenderedMarkdown h2, .jp-RenderedMarkdown h3, .jp-RenderedMarkdown h4, .jp-RenderedMarkdown h5, .jp-RenderedMarkdown h6, .jp-MarkdownOutput h1, .jp-MarkdownOutput h2, .jp-MarkdownOutput h3, .jp-MarkdownOutput h4, .jp-MarkdownOutput h5, .jp-MarkdownOutput h6 {\n",
       "  font-weight: bold;\n",
       "  font-family: \"Latin Modern Sans\", sans;\n",
       "}\n",
       ".jp-RenderedHTMLCommon h1, .jp-RenderedMarkdown h1, .jp-MarkdownOutput h1 {\n",
       "  font-size: 31.1px;\n",
       "  counter-reset: subsection;\n",
       "}\n",
       ".jp-RenderedHTMLCommon h1:before, .jp-RenderedMarkdown h1:before, .jp-MarkdownOutput h1:before {\n",
       "  content: counter(section) \". \";\n",
       "  counter-increment: section;\n",
       "}\n",
       ".jp-RenderedHTMLCommon h1[id$=\"{-}\"]:before, .jp-RenderedMarkdown h1[id$=\"{-}\"]:before, .jp-MarkdownOutput h1[id$=\"{-}\"]:before {\n",
       "  content: \"\";\n",
       "  counter-increment: none;\n",
       "}\n",
       ".jp-RenderedHTMLCommon h2, .jp-RenderedMarkdown h2, .jp-MarkdownOutput h2 {\n",
       "  font-size: 25.92px;\n",
       "  counter-reset: subsubsection;\n",
       "}\n",
       ".jp-RenderedHTMLCommon h2:before, .jp-RenderedMarkdown h2:before, .jp-MarkdownOutput h2:before {\n",
       "  content: counter(section) \".\" counter(subsection) \". \";\n",
       "  counter-increment: subsection;\n",
       "}\n",
       ".jp-RenderedHTMLCommon h2[id$=\"{-}\"]:before, .jp-RenderedMarkdown h2[id$=\"{-}\"]:before, .jp-MarkdownOutput h2[id$=\"{-}\"]:before {\n",
       "  content: \"\";\n",
       "  counter-increment: none;\n",
       "}\n",
       ".jp-RenderedHTMLCommon h3, .jp-RenderedMarkdown h3, .jp-MarkdownOutput h3 {\n",
       "  font-size: 18px;\n",
       "}\n",
       ".jp-RenderedHTMLCommon h3:before, .jp-RenderedMarkdown h3:before, .jp-MarkdownOutput h3:before {\n",
       "  content: counter(section) \".\" counter(subsection) \".\" counter(subsubsection) \". \";\n",
       "  counter-increment: subsubsection;\n",
       "}\n",
       ".jp-RenderedHTMLCommon h3[id$=\"{-}\"]:before, .jp-RenderedMarkdown h3[id$=\"{-}\"]:before, .jp-MarkdownOutput h3[id$=\"{-}\"]:before {\n",
       "  content: \"\";\n",
       "  counter-increment: none;\n",
       "}\n",
       ".jp-RenderedHTMLCommon h4, .jp-RenderedMarkdown h4, .jp-MarkdownOutput h4 {\n",
       "  font-size: 18px;\n",
       "}\n",
       ".jp-RenderedHTMLCommon h5, .jp-RenderedMarkdown h5, .jp-MarkdownOutput h5 {\n",
       "  font-size: 18px;\n",
       "}\n",
       ".jp-RenderedHTMLCommon pre, .jp-RenderedHTMLCommon code, .jp-RenderedHTMLCommon samp, .jp-RenderedHTMLCommon pre *, .jp-RenderedHTMLCommon code *, .jp-RenderedHTMLCommon samp *, .jp-RenderedMarkdown pre, .jp-RenderedMarkdown code, .jp-RenderedMarkdown samp, .jp-RenderedMarkdown pre *, .jp-RenderedMarkdown code *, .jp-RenderedMarkdown samp *, .jp-MarkdownOutput pre, .jp-MarkdownOutput code, .jp-MarkdownOutput samp, .jp-MarkdownOutput pre *, .jp-MarkdownOutput code *, .jp-MarkdownOutput samp * {\n",
       "  font-family: \"Latin Modern Monospace\", monospace;\n",
       "  font-size: 18px;\n",
       "}\n",
       ".jp-RenderedHTMLCommon :not(pre) > code, .jp-RenderedMarkdown :not(pre) > code, .jp-MarkdownOutput :not(pre) > code {\n",
       "  background: none;\n",
       "}\n",
       ".jp-RenderedHTMLCommon a:link, .jp-RenderedHTMLCommon a:visited, .jp-RenderedMarkdown a:link, .jp-RenderedMarkdown a:visited, .jp-MarkdownOutput a:link, .jp-MarkdownOutput a:visited {\n",
       "  font-family: \"Latin Modern Monospace\", monospace;\n",
       "  color: #ec008c;\n",
       "}\n",
       ".jp-RenderedHTMLCommon a:link[href^=\"#\"], .jp-RenderedHTMLCommon a:visited[href^=\"#\"], .jp-RenderedMarkdown a:link[href^=\"#\"], .jp-RenderedMarkdown a:visited[href^=\"#\"], .jp-MarkdownOutput a:link[href^=\"#\"], .jp-MarkdownOutput a:visited[href^=\"#\"] {\n",
       "  font-family: \"Latin Modern Sans\", sans;\n",
       "  color: #4c0000;\n",
       "  font-size: 1.2em;\n",
       "}\n",
       ".jp-RenderedHTMLCommon .theorem:before , .jp-RenderedMarkdown .theorem:before , .jp-MarkdownOutput .theorem:before  {\n",
       "  content: \"Theorem\";\n",
       "  counter-increment: none;\n",
       "}\n",
       "\n",
       "/*# sourceMappingURL=style.css.map */</style>"
      ],
      "text/plain": [
       "<IPython.core.display.HTML object>"
      ]
     },
     "metadata": {},
     "output_type": "display_data"
    }
   ],
   "source": [
    "from pyblish import Pyblish\n",
    "Pyblish.configure('ReadMe.yml')"
   ]
  },
  {
   "cell_type": "markdown",
   "metadata": {},
   "source": [
    "# Pyblish\n",
    "\n",
    "Pyblish is a python application that convert Jupyter notebooks (`ipynb`) into journal publications. It runs [Pandoc](https://pandoc.org/) under the hood, applies some default extensions and provides some basic filters.\n",
    "\n",
    "## Builtins\n",
    "\n",
    "Pyblish has some HTML and Latex extensions. It’s allows to write plain python code and produce Latex and HTML ready to publish code.\n",
    "\n",
    "For exemple Pyblish provides the `Figure` class which allows to create a Figure environment.\n",
    "\n",
    "Usage: "
   ]
  },
  {
   "cell_type": "code",
   "execution_count": 2,
   "metadata": {
    "tags": [
     "visible"
    ]
   },
   "outputs": [
    {
     "data": {
      "text/html": [
       "<figure><p>This is markdown <strong>here</strong>!</p>\n",
       "</figure>"
      ],
      "text/latex": [
       "\\begin{figure}This is markdown \\textbf{here}!\n",
       "\\end{figure}"
      ],
      "text/plain": [
       "<pyblish.Figure at 0x7f29a63fec10>"
      ]
     },
     "execution_count": 2,
     "metadata": {},
     "output_type": "execute_result"
    }
   ],
   "source": [
    "from pyblish import Figure\n",
    "Figure(\"\"\"This is markdown **here**!\"\"\")"
   ]
  },
  {
   "cell_type": "markdown",
   "metadata": {},
   "source": [
    "This code will produce the HTML code:\n",
    "```html\n",
    "<figure>This is markdown <b>here</b>!<figure>\n",
    "```\n",
    "\n",
    "to render the content in the jupyter environment and:\n",
    "\n",
    "```latex\n",
    "\\begin{figure}\n",
    "This is markdown \\textbf{here}!\n",
    "\\end{figure}\n",
    "```\n",
    "\n",
    "to render in the Latex code source."
   ]
  },
  {
   "cell_type": "markdown",
   "metadata": {},
   "source": [
    "## Journals\n",
    "\n",
    "The provided journals are stored in the [_journals](_journals) directory.\n",
    "\n",
    "### IACRTrans\n",
    "\n",
    "The iarctrans journal can be used to publish in both [ToSC](https://tosc.iacr.org/index.php/ToSC/index) and [TCHES](https://tches.iacr.org/)\n",
    "\n",
    "To use this journal add:\n",
    "```yml\n",
    "use: _journal/iacrtrans.yml\n",
    "```\n",
    "to your yml metadata file."
   ]
  },
  {
   "cell_type": "markdown",
   "metadata": {},
   "source": [
    "<div class=\"theorem\">\n",
    "Test\n",
    "</div>"
   ]
  }
 ],
 "metadata": {
  "kernelspec": {
   "display_name": "Python 3 (ipykernel)",
   "language": "python",
   "name": "python3"
  },
  "language_info": {
   "codemirror_mode": {
    "name": "ipython",
    "version": 3
   },
   "file_extension": ".py",
   "mimetype": "text/x-python",
   "name": "python",
   "nbconvert_exporter": "python",
   "pygments_lexer": "ipython3",
   "version": "3.9.16"
  }
 },
 "nbformat": 4,
 "nbformat_minor": 4
}
