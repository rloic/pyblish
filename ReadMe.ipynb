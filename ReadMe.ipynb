{
 "cells": [
  {
   "cell_type": "code",
   "execution_count": 1,
   "metadata": {
    "collapsed": false,
    "jupyter": {
     "outputs_hidden": false
    },
    "pycharm": {
     "is_executing": true
    },
    "tags": [
     "hidden"
    ]
   },
   "outputs": [
    {
     "data": {
      "text/html": [
       "<style>@charset \"UTF-8\";\n",
       "body {\n",
       "  counter-reset: section, subsection, subsubsection, theorem;\n",
       "}\n",
       "\n",
       ".jp-RenderedHTMLCommon, .jp-RenderedMarkdown, .jp-MarkdownOutput {\n",
       "  font-size: 18px;\n",
       "  font-family: \"Latin Modern\", serif;\n",
       "}\n",
       ".jp-RenderedHTMLCommon *, .jp-RenderedMarkdown *, .jp-MarkdownOutput * {\n",
       "  font-family: \"Latin Modern\", serif;\n",
       "}\n",
       ".jp-RenderedHTMLCommon h1, .jp-RenderedHTMLCommon h2, .jp-RenderedHTMLCommon h3, .jp-RenderedHTMLCommon h4, .jp-RenderedHTMLCommon h5, .jp-RenderedHTMLCommon h6, .jp-RenderedMarkdown h1, .jp-RenderedMarkdown h2, .jp-RenderedMarkdown h3, .jp-RenderedMarkdown h4, .jp-RenderedMarkdown h5, .jp-RenderedMarkdown h6, .jp-MarkdownOutput h1, .jp-MarkdownOutput h2, .jp-MarkdownOutput h3, .jp-MarkdownOutput h4, .jp-MarkdownOutput h5, .jp-MarkdownOutput h6 {\n",
       "  font-weight: bold;\n",
       "  font-family: \"Latin Modern Sans\", sans;\n",
       "}\n",
       ".jp-RenderedHTMLCommon h1, .jp-RenderedMarkdown h1, .jp-MarkdownOutput h1 {\n",
       "  font-size: 31.1px;\n",
       "  counter-reset: subsection;\n",
       "}\n",
       ".jp-RenderedHTMLCommon h1:before, .jp-RenderedMarkdown h1:before, .jp-MarkdownOutput h1:before {\n",
       "  content: counter(section) \". \";\n",
       "  counter-increment: section;\n",
       "}\n",
       ".jp-RenderedHTMLCommon h1[id$=\"{-}\"]:before, .jp-RenderedMarkdown h1[id$=\"{-}\"]:before, .jp-MarkdownOutput h1[id$=\"{-}\"]:before {\n",
       "  content: \"\";\n",
       "  counter-increment: none;\n",
       "}\n",
       ".jp-RenderedHTMLCommon h2, .jp-RenderedMarkdown h2, .jp-MarkdownOutput h2 {\n",
       "  font-size: 25.92px;\n",
       "  counter-reset: subsubsection;\n",
       "}\n",
       ".jp-RenderedHTMLCommon h2:before, .jp-RenderedMarkdown h2:before, .jp-MarkdownOutput h2:before {\n",
       "  content: counter(section) \".\" counter(subsection) \". \";\n",
       "  counter-increment: subsection;\n",
       "}\n",
       ".jp-RenderedHTMLCommon h2[id$=\"{-}\"]:before, .jp-RenderedMarkdown h2[id$=\"{-}\"]:before, .jp-MarkdownOutput h2[id$=\"{-}\"]:before {\n",
       "  content: \"\";\n",
       "  counter-increment: none;\n",
       "}\n",
       ".jp-RenderedHTMLCommon h3, .jp-RenderedMarkdown h3, .jp-MarkdownOutput h3 {\n",
       "  font-size: 18px;\n",
       "}\n",
       ".jp-RenderedHTMLCommon h3:before, .jp-RenderedMarkdown h3:before, .jp-MarkdownOutput h3:before {\n",
       "  content: counter(section) \".\" counter(subsection) \".\" counter(subsubsection) \". \";\n",
       "  counter-increment: subsubsection;\n",
       "}\n",
       ".jp-RenderedHTMLCommon h3[id$=\"{-}\"]:before, .jp-RenderedMarkdown h3[id$=\"{-}\"]:before, .jp-MarkdownOutput h3[id$=\"{-}\"]:before {\n",
       "  content: \"\";\n",
       "  counter-increment: none;\n",
       "}\n",
       ".jp-RenderedHTMLCommon h4, .jp-RenderedMarkdown h4, .jp-MarkdownOutput h4 {\n",
       "  font-size: 18px;\n",
       "}\n",
       ".jp-RenderedHTMLCommon h5, .jp-RenderedMarkdown h5, .jp-MarkdownOutput h5 {\n",
       "  font-size: 18px;\n",
       "}\n",
       ".jp-RenderedHTMLCommon pre, .jp-RenderedHTMLCommon code, .jp-RenderedHTMLCommon samp, .jp-RenderedHTMLCommon pre *, .jp-RenderedHTMLCommon code *, .jp-RenderedHTMLCommon samp *, .jp-RenderedMarkdown pre, .jp-RenderedMarkdown code, .jp-RenderedMarkdown samp, .jp-RenderedMarkdown pre *, .jp-RenderedMarkdown code *, .jp-RenderedMarkdown samp *, .jp-MarkdownOutput pre, .jp-MarkdownOutput code, .jp-MarkdownOutput samp, .jp-MarkdownOutput pre *, .jp-MarkdownOutput code *, .jp-MarkdownOutput samp * {\n",
       "  font-family: \"Latin Modern Monospace\", monospace;\n",
       "  font-size: 18px;\n",
       "}\n",
       ".jp-RenderedHTMLCommon :not(pre) > code, .jp-RenderedMarkdown :not(pre) > code, .jp-MarkdownOutput :not(pre) > code {\n",
       "  background: none;\n",
       "}\n",
       ".jp-RenderedHTMLCommon a:link, .jp-RenderedHTMLCommon a:visited, .jp-RenderedMarkdown a:link, .jp-RenderedMarkdown a:visited, .jp-MarkdownOutput a:link, .jp-MarkdownOutput a:visited {\n",
       "  font-family: \"Latin Modern Monospace\", monospace;\n",
       "  color: #ec008c;\n",
       "}\n",
       ".jp-RenderedHTMLCommon a:link[href^=\"#\"], .jp-RenderedHTMLCommon a:visited[href^=\"#\"], .jp-RenderedMarkdown a:link[href^=\"#\"], .jp-RenderedMarkdown a:visited[href^=\"#\"], .jp-MarkdownOutput a:link[href^=\"#\"], .jp-MarkdownOutput a:visited[href^=\"#\"] {\n",
       "  font-family: \"Latin Modern Sans\", sans;\n",
       "  color: #4c0000;\n",
       "  font-size: 1.2em;\n",
       "}\n",
       ".jp-RenderedHTMLCommon .theorem:before , .jp-RenderedMarkdown .theorem:before , .jp-MarkdownOutput .theorem:before  {\n",
       "  content: \"Theorem\";\n",
       "  counter-increment: none;\n",
       "}\n",
       "\n",
       "/*# sourceMappingURL=style.css.map */</style>"
      ],
      "text/plain": [
       "<IPython.core.display.HTML object>"
      ]
     },
     "metadata": {},
     "output_type": "display_data"
    }
   ],
   "source": [
    "from pyblish import Pyblish\n",
    "Pyblish.configure('ReadMe.yml')"
   ]
  },
  {
   "cell_type": "markdown",
   "metadata": {},
   "source": [
    "# Pyblish\n",
    "\n",
    "Pyblish is a python application that convert Jupyter notebooks (`ipynb`) into journal publications. It runs [Pandoc](https://pandoc.org/) under the hood, applies some default extensions and provides some basic filters.\n",
    "\n",
    "## Builtins\n",
    "\n",
    "Pyblish has some HTML and Latex extensions. It’s allows to write plain python code and produce Latex and HTML ready to publish code.\n",
    "\n",
    "For exemple Pyblish provides the `Figure` class which allows to create a Figure environment.\n",
    "\n",
    "Usage: "
   ]
  },
  {
   "cell_type": "code",
   "execution_count": 2,
   "metadata": {
    "tags": [
     "visible"
    ]
   },
   "outputs": [
    {
     "data": {
      "text/html": [
       "<figure><p>This is markdown <strong>here</strong>!</p>\n",
       "</figure>"
      ],
      "text/latex": [
       "\\begin{figure}This is markdown \\textbf{here}!\n",
       "\\end{figure}"
      ],
      "text/plain": [
       "<pyblish.Figure at 0x7f8e3416c5b0>"
      ]
     },
     "execution_count": 2,
     "metadata": {},
     "output_type": "execute_result"
    }
   ],
   "source": [
    "from pyblish import Figure\n",
    "Figure(\"\"\"This is markdown **here**!\"\"\")"
   ]
  },
  {
   "cell_type": "markdown",
   "metadata": {},
   "source": [
    "This code will produce the HTML code:\n",
    "```html\n",
    "<figure>This is markdown <b>here</b>!<figure>\n",
    "```\n",
    "\n",
    "to render the content in the jupyter environment and:\n",
    "\n",
    "```latex\n",
    "\\begin{figure}\n",
    "This is markdown \\textbf{here}!\n",
    "\\end{figure}\n",
    "```\n",
    "\n",
    "to render in the Latex code source."
   ]
  },
  {
   "cell_type": "markdown",
   "metadata": {},
   "source": [
    "## Journals\n",
    "\n",
    "The provided journals are stored in the [_journals](_journals) directory.\n",
    "\n",
    "### IACRTrans\n",
    "\n",
    "The iarctrans journal can be used to publish in both [ToSC](https://tosc.iacr.org/index.php/ToSC/index) and [TCHES](https://tches.iacr.org/)\n",
    "\n",
    "To use this journal add:\n",
    "```yml\n",
    "use: _journal/iacrtrans.yml\n",
    "```\n",
    "to your yml metadata file."
   ]
  },
  {
   "cell_type": "markdown",
   "metadata": {},
   "source": [
    "<div class=\"theorem\">\n",
    "This is a theorem\n",
    "</div>"
   ]
  },
  {
   "cell_type": "code",
   "execution_count": 3,
   "metadata": {
    "tags": []
   },
   "outputs": [
    {
     "data": {
      "text/html": [
       "<div><div>\n",
       "<style scoped>\n",
       "    .dataframe tbody tr th:only-of-type {\n",
       "        vertical-align: middle;\n",
       "    }\n",
       "\n",
       "    .dataframe tbody tr th {\n",
       "        vertical-align: top;\n",
       "    }\n",
       "\n",
       "    .dataframe thead th {\n",
       "        text-align: right;\n",
       "    }\n",
       "</style>\n",
       "<table border=\"1\" class=\"dataframe\">\n",
       "  <thead>\n",
       "    <tr style=\"text-align: right;\">\n",
       "      <th></th>\n",
       "      <th>x</th>\n",
       "      <th>pow</th>\n",
       "    </tr>\n",
       "  </thead>\n",
       "  <tbody>\n",
       "    <tr>\n",
       "      <th>0</th>\n",
       "      <td>0</td>\n",
       "      <td>$2^{-0}$</td>\n",
       "    </tr>\n",
       "    <tr>\n",
       "      <th>1</th>\n",
       "      <td>1</td>\n",
       "      <td>$2^{-1}$</td>\n",
       "    </tr>\n",
       "    <tr>\n",
       "      <th>2</th>\n",
       "      <td>2</td>\n",
       "      <td>$2^{-2}$</td>\n",
       "    </tr>\n",
       "    <tr>\n",
       "      <th>3</th>\n",
       "      <td>3</td>\n",
       "      <td>$2^{-3}$</td>\n",
       "    </tr>\n",
       "    <tr>\n",
       "      <th>4</th>\n",
       "      <td>4</td>\n",
       "      <td>$2^{-4}$</td>\n",
       "    </tr>\n",
       "    <tr>\n",
       "      <th>5</th>\n",
       "      <td>5</td>\n",
       "      <td>$2^{-5}$</td>\n",
       "    </tr>\n",
       "    <tr>\n",
       "      <th>6</th>\n",
       "      <td>6</td>\n",
       "      <td>$2^{-6}$</td>\n",
       "    </tr>\n",
       "    <tr>\n",
       "      <th>7</th>\n",
       "      <td>7</td>\n",
       "      <td>$2^{-7}$</td>\n",
       "    </tr>\n",
       "    <tr>\n",
       "      <th>8</th>\n",
       "      <td>8</td>\n",
       "      <td>$2^{-8}$</td>\n",
       "    </tr>\n",
       "    <tr>\n",
       "      <th>9</th>\n",
       "      <td>9</td>\n",
       "      <td>$2^{-9}$</td>\n",
       "    </tr>\n",
       "  </tbody>\n",
       "</table>\n",
       "</div></div>"
      ],
      "text/latex": [
       "\\begin{table}\\begin{longtable}[]{@{}lll@{}}\n",
       "\\toprule\\noalign{}\n",
       "& x & pow \\\\\n",
       "\\midrule\\noalign{}\n",
       "\\endhead\n",
       "\\bottomrule\\noalign{}\n",
       "\\endlastfoot\n",
       "0 & 0 & \\(2^{-0}\\) \\\\\n",
       "1 & 1 & \\(2^{-1}\\) \\\\\n",
       "2 & 2 & \\(2^{-2}\\) \\\\\n",
       "3 & 3 & \\(2^{-3}\\) \\\\\n",
       "4 & 4 & \\(2^{-4}\\) \\\\\n",
       "5 & 5 & \\(2^{-5}\\) \\\\\n",
       "6 & 6 & \\(2^{-6}\\) \\\\\n",
       "7 & 7 & \\(2^{-7}\\) \\\\\n",
       "8 & 8 & \\(2^{-8}\\) \\\\\n",
       "9 & 9 & \\(2^{-9}\\) \\\\\n",
       "\\end{longtable}\n",
       "\\end{table}"
      ],
      "text/plain": [
       "<pyblish.Table at 0x7f8dab2d8580>"
      ]
     },
     "execution_count": 3,
     "metadata": {},
     "output_type": "execute_result"
    }
   ],
   "source": [
    "import pandas as pd\n",
    "\n",
    "from pyblish import Table\n",
    "df = pd.DataFrame.from_records([ (x, f\"$2^{{-{x}}}$\") for x in range(10) ], columns = [ \"x\", \"pow\" ])\n",
    "Table(df)"
   ]
  }
 ],
 "metadata": {
  "kernelspec": {
   "display_name": "Python 3 (ipykernel)",
   "language": "python",
   "name": "python3"
  },
  "language_info": {
   "codemirror_mode": {
    "name": "ipython",
    "version": 3
   },
   "file_extension": ".py",
   "mimetype": "text/x-python",
   "name": "python",
   "nbconvert_exporter": "python",
   "pygments_lexer": "ipython3",
   "version": "3.8.16"
  }
 },
 "nbformat": 4,
 "nbformat_minor": 4
}
